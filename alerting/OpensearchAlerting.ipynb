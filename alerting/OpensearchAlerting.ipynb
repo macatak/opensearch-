{
 "cells": [
  {
   "cell_type": "markdown",
   "id": "573bf595-08d7-4bb2-a91c-594097598145",
   "metadata": {},
   "source": [
    "# Opensearch Alerting Traffic Generator"
   ]
  },
  {
   "cell_type": "markdown",
   "id": "68ed0028-10cb-4d22-855e-535cde7415e6",
   "metadata": {},
   "source": [
    "## imports"
   ]
  },
  {
   "cell_type": "code",
   "execution_count": 5,
   "id": "398b3e45-1ad2-4ef1-9571-7c4948de71af",
   "metadata": {},
   "outputs": [],
   "source": [
    "# imports\n",
    "from datetime import datetime\n",
    "from faker import Faker\n",
    "from random import randint\n",
    "from opensearchpy import OpenSearch\n",
    "import csv, random, time \n"
   ]
  },
  {
   "cell_type": "markdown",
   "id": "1ed72ff4-3606-45c4-b76b-7a39450add5f",
   "metadata": {},
   "source": [
    "## Setup"
   ]
  },
  {
   "cell_type": "code",
   "execution_count": 6,
   "id": "09acba07-2a79-4809-b88f-7279af395d6f",
   "metadata": {},
   "outputs": [],
   "source": [
    "# objects\n",
    "faker = Faker()\n",
    "\n",
    "    \n",
    "# functions\n",
    "def createRanNum():\n",
    "    # return a standard log level\n",
    "    # weighted on a sale of 0-100 so most should be info\n",
    "    ranNumber = random.randint(0, 100)\n",
    "    if ranNumber >= 0 and ranNumber <= 70:\n",
    "        ranNumber = \"1\"\n",
    "    elif ranNumber >= 71 and ranNumber <= 75:\n",
    "        ranNumber = \"2\"\n",
    "    elif ranNumber >= 76 and ranNumber <= 80:\n",
    "        ranNumber = \"3\"\n",
    "    elif ranNumber >= 81 and ranNumber <= 85:\n",
    "        ranNumber = \"4\"\n",
    "    elif ranNumber >= 86 and ranNumber <= 90:\n",
    "        ranNumber = \"5\"\n",
    "    elif ranNumber >= 91 and ranNumber <= 98:\n",
    "        ranNumber = \"6\"   \n",
    "    else:\n",
    "        ranNumber = \"9\" #  + str(ranNumber)   \n",
    "    return ranNumber\n",
    "\n",
    "def createLogLevel():\n",
    "    # return a standard log level\n",
    "    # weighted on a sale of 0-100 so most should be info\n",
    "    ranNumber = random.randint(0, 100)\n",
    "    if ranNumber >= 0 and ranNumber <= 70:\n",
    "        logLevel = \"info\"\n",
    "    elif ranNumber >= 71 and ranNumber <= 75:\n",
    "        logLevel = \"debug\"\n",
    "    elif ranNumber >= 76 and ranNumber <= 80:\n",
    "        logLevel = \"trace\"\n",
    "    elif ranNumber >= 81 and ranNumber <= 85:\n",
    "        logLevel = \"warn\"\n",
    "    elif ranNumber >= 86 and ranNumber <= 90:\n",
    "        logLevel = \"error\"\n",
    "    elif ranNumber >= 91 and ranNumber <= 99:\n",
    "        logLevel = \"critical\"    \n",
    "    else:\n",
    "        logLevel = \"fatal \" #  + str(ranNumber)    \n",
    "    return logLevel\n",
    "\n",
    "def get_random_item(list_name, random_range):\n",
    "    '''\n",
    "    return a random item from a list\n",
    "    '''\n",
    "    ran = random.randint(1,random_range)\n",
    "    return list_name[ran]\n",
    "\n",
    "def createHttpResponseCode():\n",
    "    # return response code\n",
    "    # weighted on a sale of 0-100\n",
    "    # 200's/300's should be most common\n",
    "    ranNumber = random.randint(0, 100)\n",
    "    if ranNumber >= 0 and ranNumber <= 90:\n",
    "        httpResponse = \"1\"  # 100/200/300 not important\n",
    "    elif ranNumber >= 91 and ranNumber <= 97:\n",
    "        httpResponse = \"3\"  #400's \n",
    "    else:\n",
    "        httpResponse = \"6\" # 500   \n",
    "    return httpResponse\n",
    "\n",
    "def read_csv(csvFilename, row_number):\n",
    "    '''\n",
    "    read a CSV file into a list\n",
    "    args are filename and row of the desired item\n",
    "    '''\n",
    "    with open(csvFilename) as f:\n",
    "        # list object to return\n",
    "        return_list = []\n",
    "        # open the file which returns a pointer to the 1st line\n",
    "        reader = csv.reader(f)\n",
    "        # this will move the pointer to the next line so it skips the header line of the CSV\n",
    "        next(reader)\n",
    "        for row in reader:\n",
    "            # print it if you want\n",
    "            # print(row[row_number])\n",
    "            # add it to a list\n",
    "            return_list.append(row[row_number])\n",
    "    return return_list\n"
   ]
  },
  {
   "cell_type": "markdown",
   "id": "521d9e1c-f34f-49ff-a9aa-07f559d14a72",
   "metadata": {},
   "source": [
    "## Send test data to OpenSearch"
   ]
  },
  {
   "cell_type": "code",
   "execution_count": 7,
   "id": "366beedc-0648-43aa-91cc-49fe6de319a1",
   "metadata": {
    "scrolled": true
   },
   "outputs": [
    {
     "name": "stdout",
     "output_type": "stream",
     "text": [
      "{'_index': 'logs-index_alert', '_id': '0RXyMJYBxYAHncrUkRVe', '_version': 1, 'result': 'created', 'forced_refresh': True, '_shards': {'total': 2, 'successful': 2, 'failed': 0}, '_seq_no': 1101, '_primary_term': 4}\n",
      "{'_index': 'logs-index_alert', '_id': '0hXyMJYBxYAHncrUlBXq', '_version': 1, 'result': 'created', 'forced_refresh': True, '_shards': {'total': 2, 'successful': 2, 'failed': 0}, '_seq_no': 1102, '_primary_term': 4}\n",
      "{'_index': 'logs-index_alert', '_id': '0xXyMJYBxYAHncrUmhVr', '_version': 1, 'result': 'created', 'forced_refresh': True, '_shards': {'total': 2, 'successful': 2, 'failed': 0}, '_seq_no': 1103, '_primary_term': 4}\n",
      "{'_index': 'logs-index_alert', '_id': '1BXyMJYBxYAHncrUnhX1', '_version': 1, 'result': 'created', 'forced_refresh': True, '_shards': {'total': 2, 'successful': 2, 'failed': 0}, '_seq_no': 1104, '_primary_term': 4}\n",
      "{'_index': 'logs-index_alert', '_id': '1RXyMJYBxYAHncrUoRVN', '_version': 1, 'result': 'created', 'forced_refresh': True, '_shards': {'total': 2, 'successful': 2, 'failed': 0}, '_seq_no': 1105, '_primary_term': 4}\n",
      "{'_index': 'logs-index_alert', '_id': '1hXyMJYBxYAHncrUpRX3', '_version': 1, 'result': 'created', 'forced_refresh': True, '_shards': {'total': 2, 'successful': 2, 'failed': 0}, '_seq_no': 1106, '_primary_term': 4}\n",
      "{'_index': 'logs-index_alert', '_id': '1xXyMJYBxYAHncrUqBUI', '_version': 1, 'result': 'created', 'forced_refresh': True, '_shards': {'total': 2, 'successful': 2, 'failed': 0}, '_seq_no': 1107, '_primary_term': 4}\n",
      "{'_index': 'logs-index_alert', '_id': '2BXyMJYBxYAHncrUqhWW', '_version': 1, 'result': 'created', 'forced_refresh': True, '_shards': {'total': 2, 'successful': 2, 'failed': 0}, '_seq_no': 1108, '_primary_term': 4}\n",
      "{'_index': 'logs-index_alert', '_id': '2RXyMJYBxYAHncrUrhUi', '_version': 1, 'result': 'created', 'forced_refresh': True, '_shards': {'total': 2, 'successful': 2, 'failed': 0}, '_seq_no': 1109, '_primary_term': 4}\n",
      "{'_index': 'logs-index_alert', '_id': '2hXyMJYBxYAHncrUrxXy', '_version': 1, 'result': 'created', 'forced_refresh': True, '_shards': {'total': 2, 'successful': 2, 'failed': 0}, '_seq_no': 1110, '_primary_term': 4}\n",
      "{'_index': 'logs-index_alert', '_id': '2xXyMJYBxYAHncrUtBV4', '_version': 1, 'result': 'created', 'forced_refresh': True, '_shards': {'total': 2, 'successful': 2, 'failed': 0}, '_seq_no': 1111, '_primary_term': 4}\n",
      "{'_index': 'logs-index_alert', '_id': '3BXyMJYBxYAHncrUuBUl', '_version': 1, 'result': 'created', 'forced_refresh': True, '_shards': {'total': 2, 'successful': 2, 'failed': 0}, '_seq_no': 1112, '_primary_term': 4}\n",
      "{'_index': 'logs-index_alert', '_id': '3RXyMJYBxYAHncrUvBVH', '_version': 1, 'result': 'created', 'forced_refresh': True, '_shards': {'total': 2, 'successful': 2, 'failed': 0}, '_seq_no': 1113, '_primary_term': 4}\n",
      "{'_index': 'logs-index_alert', '_id': '3hXyMJYBxYAHncrUwRW4', '_version': 1, 'result': 'created', 'forced_refresh': True, '_shards': {'total': 2, 'successful': 2, 'failed': 0}, '_seq_no': 1114, '_primary_term': 4}\n",
      "{'_index': 'logs-index_alert', '_id': '3xXyMJYBxYAHncrUxxUf', '_version': 1, 'result': 'created', 'forced_refresh': True, '_shards': {'total': 2, 'successful': 2, 'failed': 0}, '_seq_no': 1115, '_primary_term': 4}\n"
     ]
    },
    {
     "ename": "KeyboardInterrupt",
     "evalue": "",
     "output_type": "error",
     "traceback": [
      "\u001b[31m---------------------------------------------------------------------------\u001b[39m",
      "\u001b[31mKeyboardInterrupt\u001b[39m                         Traceback (most recent call last)",
      "\u001b[36mCell\u001b[39m\u001b[36m \u001b[39m\u001b[32mIn[7]\u001b[39m\u001b[32m, line 66\u001b[39m\n\u001b[32m     64\u001b[39m \u001b[38;5;28mprint\u001b[39m(response)\n\u001b[32m     65\u001b[39m \u001b[38;5;66;03m# short random delay\u001b[39;00m\n\u001b[32m---> \u001b[39m\u001b[32m66\u001b[39m \u001b[43mtime\u001b[49m\u001b[43m.\u001b[49m\u001b[43msleep\u001b[49m\u001b[43m(\u001b[49m\u001b[43m(\u001b[49m\u001b[43mrandom\u001b[49m\u001b[43m.\u001b[49m\u001b[43mrandom\u001b[49m\u001b[43m(\u001b[49m\u001b[43m)\u001b[49m\u001b[43m)\u001b[49m\u001b[43m)\u001b[49m\n",
      "\u001b[31mKeyboardInterrupt\u001b[39m: "
     ]
    }
   ],
   "source": [
    "if __name__ == '__main__':\n",
    "    # variables\n",
    "    host = [{'host': '127.0.0.1', 'port': 9200}]\n",
    "    # auth = ('index_writer_user', 'IndexWriter123!')\n",
    "    auth = ('admin', 'Opensearch123!')\n",
    "    # ca_certs_path = '/home/bikeride/opensearch/opensearch-2.3.0/config/root-ca.pem'\n",
    "    # target_index = 'test_index1'\n",
    "    target_index = 'logs-index_alert'\n",
    "    # client = OpenSearch(hosts=host,http_compress=True,http_auth=auth,use_ssl=True,verify_certs=True,ssl_assert_hostname=False,ssl_show_warn=False,ca_certs=ca_certs_path)\n",
    "    client = OpenSearch(\n",
    "        hosts=host,\n",
    "        http_compress=True,\n",
    "        http_auth=auth,\n",
    "        use_ssl=True,\n",
    "        verify_certs=False,\n",
    "        ssl_assert_hostname=False,\n",
    "        ssl_show_warn=False\n",
    "    )\n",
    "    \n",
    "    # generate lists from CSV files\n",
    "    humanReadableCsv = \"/home/bikeride/Documents/csvFiles/Human-to-HumanActionableRequestsDataset.csv\"\n",
    "    messageList = read_csv(humanReadableCsv, 1)\n",
    "    msgTypeList = read_csv(humanReadableCsv, 0)\n",
    "    msgDirectionList = read_csv(humanReadableCsv, 2)\n",
    "    msgValidtyList = read_csv(humanReadableCsv, 3)\n",
    "    #\n",
    "    # set up to run for timed run in seconds\n",
    "    runTime = 600\n",
    "    timeToRun = int(time.time() + runTime)\n",
    "    # for i in range(1000):\n",
    "    while (int(time.time()) < int(timeToRun)):\n",
    "        severity = createRanNum()\n",
    "        loglevel = createLogLevel()\n",
    "        http_response_code = createHttpResponseCode()\n",
    "        message = get_random_item(messageList, len(messageList) -1)\n",
    "        msgType =  get_random_item(msgTypeList, len(msgTypeList) -1)\n",
    "        msgDirection =  get_random_item(msgDirectionList, len(msgDirectionList) -1)\n",
    "        msgValidity = get_random_item(msgValidtyList, len(msgValidtyList) -1)\n",
    "        return_status = faker.boolean()\n",
    "        hostname = faker.hostname()\n",
    "        # get a timestamp\n",
    "        today = datetime.now().astimezone()\n",
    "        iso_datetime = today.isoformat()\n",
    "        # set up the event\n",
    "        document = {\n",
    "            '@timestamp' : iso_datetime,\n",
    "            'msg': message,\n",
    "            'msg_type': msgType,\n",
    "            'msg_direction': msgDirection,\n",
    "            #'msg_validity': msgValidity,\n",
    "            'severity': severity,\n",
    "            'return_status': return_status,\n",
    "            'http_response_code': http_response_code,\n",
    "            'log_level': loglevel,\n",
    "            'hostname': hostname\n",
    "            }\n",
    "        # send a write request\n",
    "        response = client.index(\n",
    "            index = target_index,\n",
    "            body = document,\n",
    "            refresh = True\n",
    "            )\n",
    "        # print the response if you want\n",
    "        print(response)\n",
    "        # short random delay\n",
    "        time.sleep((random.random()))\n",
    "\n"
   ]
  },
  {
   "cell_type": "code",
   "execution_count": null,
   "id": "5ea3f8bc-c572-4693-b60b-f5ccd328b21a",
   "metadata": {},
   "outputs": [],
   "source": []
  },
  {
   "cell_type": "code",
   "execution_count": null,
   "id": "98feb8e1-ea8f-48c5-ade2-32c27f055f5a",
   "metadata": {},
   "outputs": [],
   "source": []
  },
  {
   "cell_type": "code",
   "execution_count": null,
   "id": "1d9eb886-5a5f-4222-9b44-72ceda93e02f",
   "metadata": {},
   "outputs": [],
   "source": []
  },
  {
   "cell_type": "code",
   "execution_count": null,
   "id": "f704c354-2ddb-4906-8849-d9a868433d6b",
   "metadata": {},
   "outputs": [],
   "source": []
  }
 ],
 "metadata": {
  "kernelspec": {
   "display_name": "Python Opensearch",
   "language": "python",
   "name": "opensearch"
  },
  "language_info": {
   "codemirror_mode": {
    "name": "ipython",
    "version": 3
   },
   "file_extension": ".py",
   "mimetype": "text/x-python",
   "name": "python",
   "nbconvert_exporter": "python",
   "pygments_lexer": "ipython3",
   "version": "3.12.3"
  }
 },
 "nbformat": 4,
 "nbformat_minor": 5
}
